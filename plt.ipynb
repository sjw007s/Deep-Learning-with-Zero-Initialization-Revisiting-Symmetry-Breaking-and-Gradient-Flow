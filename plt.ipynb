{
 "cells": [
  {
   "cell_type": "code",
   "execution_count": null,
   "metadata": {},
   "outputs": [],
   "source": [
    "import matplotlib.pyplot as plt\n",
    "\n",
    "plt.figure(figsize=(12, 10))\n",
    "\n",
    "# Train/Test Loss Graph\n",
    "plt.subplot(2, 2, 1)\n",
    "plt.plot(train_losses, label='Train Loss')\n",
    "plt.plot(test_losses, label='Test Loss')\n",
    "plt.xlabel('Epoch')\n",
    "plt.ylabel('Loss')\n",
    "plt.title('Train and Test Loss over Epochs')\n",
    "plt.legend()\n",
    "\n",
    "# Top-1 Accuracy Graph\n",
    "plt.subplot(2, 2, 2)\n",
    "plt.plot(summary_top1, label='Top-1 Accuracy')\n",
    "plt.xlabel('Epoch')\n",
    "plt.ylabel('Top-1 Accuracy')\n",
    "plt.title('Top-1 Accuracy over Epochs')\n",
    "plt.legend()\n",
    "\n",
    "# Top-5 Accuracy Graph\n",
    "plt.subplot(2, 2, 3)\n",
    "plt.plot(summary_top5, label='Top-5 Accuracy')\n",
    "plt.xlabel('Epoch')\n",
    "plt.ylabel('Top-5 Accuracy')\n",
    "plt.title('Top-5 Accuracy over Epochs')\n",
    "plt.legend()\n",
    "\n",
    "# Epoch Duration Graph\n",
    "plt.subplot(2, 2, 4)\n",
    "plt.plot(epoch_durations, label='Epoch Duration (s)')\n",
    "plt.xlabel('Epoch')\n",
    "plt.ylabel('Time (s)')\n",
    "plt.title('Epoch Duration over Epochs')\n",
    "plt.legend()\n",
    "\n",
    "plt.tight_layout()\n",
    "plt.show()"
   ]
  }
 ],
 "metadata": {
  "kernelspec": {
   "display_name": "base",
   "language": "python",
   "name": "python3"
  },
  "language_info": {
   "name": "python",
   "version": "3.12.3"
  }
 },
 "nbformat": 4,
 "nbformat_minor": 2
}
